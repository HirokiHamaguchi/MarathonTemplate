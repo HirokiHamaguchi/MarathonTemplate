{
 "cells": [
  {
   "cell_type": "markdown",
   "metadata": {},
   "source": [
    "# analyze"
   ]
  },
  {
   "cell_type": "code",
   "execution_count": null,
   "metadata": {},
   "outputs": [],
   "source": [
    "import matplotlib.pyplot as plt\n",
    "\n",
    "\n",
    "def readFile(seed: int):\n",
    "    with open(f\"../../tools/in/{seed:04}.txt\") as f:\n",
    "        N, M = map(int, f.readline().split())\n",
    "    print(N, M)\n",
    "\n",
    "    plt.figure(figsize=(10, 10))\n",
    "    plt.title(f\"seed={seed}\")\n",
    "    plt.show()\n",
    "\n",
    "\n",
    "readFile(0)"
   ]
  }
 ],
 "metadata": {
  "kernelspec": {
   "display_name": "base",
   "language": "python",
   "name": "python3"
  },
  "language_info": {
   "name": "python",
   "version": "3.9.13"
  }
 },
 "nbformat": 4,
 "nbformat_minor": 2
}
